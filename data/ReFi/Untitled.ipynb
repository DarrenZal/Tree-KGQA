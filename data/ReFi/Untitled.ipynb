{
 "cells": [
  {
   "cell_type": "code",
   "execution_count": 2,
   "id": "a17e6fae",
   "metadata": {},
   "outputs": [
    {
     "name": "stdout",
     "output_type": "stream",
     "text": [
      "Failed with protocol 0: could not convert string to int\n",
      "Failed with protocol 1: could not convert string to int\n",
      "Failed with protocol 2: could not convert string to int\n",
      "Failed with protocol 3: could not convert string to int\n",
      "Failed with protocol 4: could not convert string to int\n"
     ]
    }
   ],
   "source": [
    "import pickle\n",
    "# Define the path to the pickle file\n",
    "file_path = './indexed_ReFi_entities.pkl'\n",
    "\n",
    "\n",
    "    \n",
    "    \n",
    "for protocol in range(5):  # 0 to 4\n",
    "    try:\n",
    "        with open(file_path, 'rb') as file:\n",
    "            data = pickle.load(file, encoding='latin1', fix_imports=True)\n",
    "            print(\"Loaded with protocol\", protocol)\n",
    "            print(data)\n",
    "            break\n",
    "    except Exception as e:\n",
    "        print(f\"Failed with protocol {protocol}: {e}\")\n",
    "\n"
   ]
  },
  {
   "cell_type": "code",
   "execution_count": null,
   "id": "1fb54a72",
   "metadata": {},
   "outputs": [],
   "source": []
  }
 ],
 "metadata": {
  "kernelspec": {
   "display_name": "treekgqa",
   "language": "python",
   "name": "treekgqa"
  },
  "language_info": {
   "codemirror_mode": {
    "name": "ipython",
    "version": 3
   },
   "file_extension": ".py",
   "mimetype": "text/x-python",
   "name": "python",
   "nbconvert_exporter": "python",
   "pygments_lexer": "ipython3",
   "version": "3.8.18"
  }
 },
 "nbformat": 4,
 "nbformat_minor": 5
}
